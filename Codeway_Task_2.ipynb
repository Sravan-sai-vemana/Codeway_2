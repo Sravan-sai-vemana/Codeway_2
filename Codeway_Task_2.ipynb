{
  "nbformat": 4,
  "nbformat_minor": 0,
  "metadata": {
    "colab": {
      "provenance": []
    },
    "kernelspec": {
      "name": "python3",
      "display_name": "Python 3"
    },
    "language_info": {
      "name": "python"
    }
  },
  "cells": [
    {
      "cell_type": "code",
      "execution_count": 1,
      "metadata": {
        "id": "HIaJtquws-u6"
      },
      "outputs": [],
      "source": [
        "import pandas as pd\n",
        "from sklearn.model_selection import train_test_split\n",
        "from sklearn.preprocessing import StandardScaler, LabelEncoder\n",
        "from sklearn.linear_model import LogisticRegression\n",
        "from sklearn.tree import DecisionTreeClassifier\n",
        "from sklearn.ensemble import RandomForestClassifier\n",
        "from sklearn.metrics import accuracy_score, classification_report\n",
        "\n"
      ]
    },
    {
      "cell_type": "code",
      "source": [
        "# Load the datasets\n",
        "train_data = pd.read_csv('/content/drive/MyDrive/Codeway datasets/Task 2/fraudTrain.csv')\n",
        "test_data = pd.read_csv('/content/drive/MyDrive/Codeway datasets/Task 2/fraudTest.csv')\n",
        "\n"
      ],
      "metadata": {
        "id": "_qO-s6odt8Ku"
      },
      "execution_count": 26,
      "outputs": []
    },
    {
      "cell_type": "code",
      "source": [
        "# Combine train and test data for preprocessing\n",
        "combined_data = pd.concat([train_data, test_data], axis=0)\n",
        "\n",
        "# Select relevant columns\n",
        "relevant_columns = ['category', 'amt', 'gender', 'city_pop', 'job', 'is_fraud']\n",
        "combined_data = combined_data[relevant_columns]"
      ],
      "metadata": {
        "id": "wy-N_F97t-84"
      },
      "execution_count": 27,
      "outputs": []
    },
    {
      "cell_type": "code",
      "source": [
        "# Data preprocessing\n",
        "\n",
        "# Handle missing values\n",
        "combined_data.fillna(0, inplace=True)\n",
        "\n"
      ],
      "metadata": {
        "id": "XZDmYqXFuBeq"
      },
      "execution_count": 28,
      "outputs": []
    },
    {
      "cell_type": "code",
      "source": [
        "# Encoding categorical variables\n",
        "label_encoder = LabelEncoder()\n",
        "combined_data['category'] = label_encoder.fit_transform(combined_data['category'])\n",
        "combined_data['gender'] = label_encoder.fit_transform(combined_data['gender'])\n",
        "combined_data['job'] = label_encoder.fit_transform(combined_data['job'])\n"
      ],
      "metadata": {
        "id": "F0YZRidLuFeR"
      },
      "execution_count": 29,
      "outputs": []
    },
    {
      "cell_type": "code",
      "source": [
        "# Normalize numerical features\n",
        "scaler = StandardScaler()\n",
        "numerical_features = ['amt', 'city_pop']\n",
        "combined_data[numerical_features] = scaler.fit_transform(combined_data[numerical_features])\n",
        "\n",
        "\n"
      ],
      "metadata": {
        "id": "tPf8iHwCuHjA"
      },
      "execution_count": 31,
      "outputs": []
    },
    {
      "cell_type": "code",
      "source": [
        "# Split the combined data back into train and test\n",
        "train_data = combined_data[:len(train_data)]\n",
        "test_data = combined_data[len(train_data):]\n",
        "\n"
      ],
      "metadata": {
        "id": "Qu_jBwS-uJ5D"
      },
      "execution_count": 32,
      "outputs": []
    },
    {
      "cell_type": "code",
      "source": [
        "# Define features and target variable\n",
        "X_train = train_data.drop(['is_fraud'], axis=1)\n",
        "y_train = train_data['is_fraud']\n",
        "X_test = test_data.drop(['is_fraud'], axis=1)\n",
        "y_test = test_data['is_fraud']\n",
        "\n"
      ],
      "metadata": {
        "id": "APFwtsBUuLs3"
      },
      "execution_count": 33,
      "outputs": []
    },
    {
      "cell_type": "code",
      "source": [
        "# Model training and evaluation\n",
        "\n",
        "# Logistic Regression\n",
        "lr_model = LogisticRegression()\n",
        "lr_model.fit(X_train, y_train)\n",
        "lr_pred = lr_model.predict(X_test)\n",
        "lr_accuracy = accuracy_score(y_test, lr_pred)\n",
        "print(\"Logistic Regression Accuracy:\", lr_accuracy)\n",
        "print(\"Logistic Regression Classification Report:\")\n",
        "print(classification_report(y_test, lr_pred))\n",
        "\n"
      ],
      "metadata": {
        "colab": {
          "base_uri": "https://localhost:8080/"
        },
        "id": "HBSzItkXuPGr",
        "outputId": "aa2c7aff-97c3-4109-e50a-96a7135f046c"
      },
      "execution_count": 34,
      "outputs": [
        {
          "output_type": "stream",
          "name": "stdout",
          "text": [
            "Logistic Regression Accuracy: 0.9955049224518147\n",
            "Logistic Regression Classification Report:\n",
            "              precision    recall  f1-score   support\n",
            "\n",
            "           0       1.00      1.00      1.00    553574\n",
            "           1       0.00      0.00      0.00      2145\n",
            "\n",
            "    accuracy                           1.00    555719\n",
            "   macro avg       0.50      0.50      0.50    555719\n",
            "weighted avg       0.99      1.00      0.99    555719\n",
            "\n"
          ]
        }
      ]
    },
    {
      "cell_type": "code",
      "source": [
        "# Decision Tree\n",
        "dt_model = DecisionTreeClassifier()\n",
        "dt_model.fit(X_train, y_train)\n",
        "dt_pred = dt_model.predict(X_test)\n",
        "dt_accuracy = accuracy_score(y_test, dt_pred)\n",
        "print(\"\\nDecision Tree Accuracy:\", dt_accuracy)\n",
        "print(\"Decision Tree Classification Report:\")\n",
        "print(classification_report(y_test, dt_pred))\n",
        "\n"
      ],
      "metadata": {
        "colab": {
          "base_uri": "https://localhost:8080/"
        },
        "id": "bJ32TQRruRob",
        "outputId": "2272301b-7c0a-4933-d8b3-8f42c7bad9d8"
      },
      "execution_count": 35,
      "outputs": [
        {
          "output_type": "stream",
          "name": "stdout",
          "text": [
            "\n",
            "Decision Tree Accuracy: 0.9963380773376472\n",
            "Decision Tree Classification Report:\n",
            "              precision    recall  f1-score   support\n",
            "\n",
            "           0       1.00      1.00      1.00    553574\n",
            "           1       0.52      0.58      0.55      2145\n",
            "\n",
            "    accuracy                           1.00    555719\n",
            "   macro avg       0.76      0.79      0.77    555719\n",
            "weighted avg       1.00      1.00      1.00    555719\n",
            "\n"
          ]
        }
      ]
    },
    {
      "cell_type": "code",
      "source": [
        "# Random Forest\n",
        "rf_model = RandomForestClassifier()\n",
        "rf_model.fit(X_train, y_train)\n",
        "rf_pred = rf_model.predict(X_test)\n",
        "rf_accuracy = accuracy_score(y_test, rf_pred)\n",
        "print(\"\\nRandom Forest Accuracy:\", rf_accuracy)\n",
        "print(\"Random Forest Classification Report:\")\n",
        "print(classification_report(y_test, rf_pred))\n"
      ],
      "metadata": {
        "colab": {
          "base_uri": "https://localhost:8080/"
        },
        "id": "c6CMH3uIuTLa",
        "outputId": "d2c42592-b0e9-407e-a4c1-3e6ab9107689"
      },
      "execution_count": 36,
      "outputs": [
        {
          "output_type": "stream",
          "name": "stdout",
          "text": [
            "\n",
            "Random Forest Accuracy: 0.9974213586362892\n",
            "Random Forest Classification Report:\n",
            "              precision    recall  f1-score   support\n",
            "\n",
            "           0       1.00      1.00      1.00    553574\n",
            "           1       0.71      0.56      0.63      2145\n",
            "\n",
            "    accuracy                           1.00    555719\n",
            "   macro avg       0.85      0.78      0.81    555719\n",
            "weighted avg       1.00      1.00      1.00    555719\n",
            "\n"
          ]
        }
      ]
    },
    {
      "cell_type": "code",
      "source": [],
      "metadata": {
        "id": "rI9cONXq1Tmn"
      },
      "execution_count": null,
      "outputs": []
    }
  ]
}